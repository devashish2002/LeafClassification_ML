{
 "cells": [
  {
   "cell_type": "code",
   "execution_count": 1,
   "metadata": {
    "collapsed": false
   },
   "outputs": [
    {
     "name": "stderr",
     "output_type": "stream",
     "text": [
      "/usr/local/lib/python2.7/dist-packages/sklearn/cross_validation.py:44: DeprecationWarning: This module was deprecated in version 0.18 in favor of the model_selection module into which all the refactored classes and functions are moved. Also note that the interface of the new CV iterators are different from that of this module. This module will be removed in 0.20.\n",
      "  \"This module will be removed in 0.20.\", DeprecationWarning)\n",
      "Using Theano backend.\n"
     ]
    }
   ],
   "source": [
    "import numpy as np\n",
    "import pandas as pd\n",
    "import seaborn as sns\n",
    "import matplotlib.pyplot as plt\n",
    "%matplotlib inline\n",
    "from sklearn.preprocessing import StandardScaler\n",
    "from sklearn.cross_validation import train_test_split\n",
    "from sklearn.preprocessing import LabelEncoder\n",
    "from keras.models import Sequential\n",
    "from keras.layers import Dense,Dropout,Activation\n",
    "from keras.utils.np_utils import to_categorical"
   ]
  },
  {
   "cell_type": "code",
   "execution_count": 2,
   "metadata": {
    "collapsed": false
   },
   "outputs": [],
   "source": [
    "data = pd.read_csv('/LeafData/train.csv')\n",
    "parent_data = data.copy()\n",
    "ID = data.pop('id')"
   ]
  },
  {
   "cell_type": "code",
   "execution_count": 3,
   "metadata": {
    "collapsed": false
   },
   "outputs": [
    {
     "name": "stdout",
     "output_type": "stream",
     "text": [
      "(990,)\n"
     ]
    }
   ],
   "source": [
    "y = data.pop('species')\n",
    "y = LabelEncoder().fit(y).transform(y)\n",
    "print y.shape"
   ]
  },
  {
   "cell_type": "code",
   "execution_count": 4,
   "metadata": {
    "collapsed": false
   },
   "outputs": [
    {
     "name": "stdout",
     "output_type": "stream",
     "text": [
      "(990, 192)\n"
     ]
    }
   ],
   "source": [
    "X = StandardScaler().fit(data).transform(data)\n",
    "print(X.shape)"
   ]
  },
  {
   "cell_type": "code",
   "execution_count": 5,
   "metadata": {
    "collapsed": false
   },
   "outputs": [
    {
     "name": "stdout",
     "output_type": "stream",
     "text": [
      "(990, 99)\n"
     ]
    }
   ],
   "source": [
    "## We will be working with categorical crossentropy function\n",
    "## It is required to further convert the labels into \"one-hot\" representation\n",
    "\n",
    "y_cat = to_categorical(y)\n",
    "print(y_cat.shape)"
   ]
  },
  {
   "cell_type": "code",
   "execution_count": 6,
   "metadata": {
    "collapsed": true
   },
   "outputs": [],
   "source": [
    "## Developing a layered model for Neural Networks\n",
    "## Input dimensions should be equal to the number of features\n",
    "## We used softmax layer to predict a uniform probabilistic distribution of outcomes\n",
    "\n",
    "model = Sequential()\n",
    "model.add(Dense(1024,input_dim=192))\n",
    "model.add(Dropout(0.2))\n",
    "model.add(Activation('sigmoid'))\n",
    "model.add(Dense(512))\n",
    "model.add(Dropout(0.3))\n",
    "model.add(Activation('sigmoid'))\n",
    "model.add(Dense(99))\n",
    "model.add(Activation('softmax'))\n"
   ]
  },
  {
   "cell_type": "code",
   "execution_count": 7,
   "metadata": {
    "collapsed": true
   },
   "outputs": [],
   "source": [
    "## Error is measured as categorical crossentropy or multiclass logloss\n",
    "model.compile(loss='categorical_crossentropy',optimizer='rmsprop')"
   ]
  },
  {
   "cell_type": "code",
   "execution_count": 8,
   "metadata": {
    "collapsed": true
   },
   "outputs": [],
   "source": [
    "## Fitting the model on the whole training data\n",
    "history = model.fit(X,y_cat,batch_size=128,nb_epoch=100,verbose=0)"
   ]
  },
  {
   "cell_type": "code",
   "execution_count": 9,
   "metadata": {
    "collapsed": false
   },
   "outputs": [
    {
     "data": {
      "text/plain": [
       "<matplotlib.text.Text at 0x7f7329d75090>"
      ]
     },
     "execution_count": 9,
     "metadata": {},
     "output_type": "execute_result"
    },
    {
     "data": {
      "image/png": "[encoded data removed]",
      "text/plain": [
       "<matplotlib.figure.Figure at 0x7f7329e08090>"
      ]
     },
     "metadata": {},
     "output_type": "display_data"
    }
   ],
   "source": [
    "plt.plot(history.history['loss'],'o-')\n",
    "plt.xlabel('Number of Iterations')\n",
    "plt.ylabel('Categorical Crossentropy')\n",
    "plt.title('Train Error vs Number of Iterations')"
   ]
  },
  {
   "cell_type": "code",
   "execution_count": 10,
   "metadata": {
    "collapsed": false
   },
   "outputs": [],
   "source": [
    "test = pd.read_csv('/LeafData/test.csv')\n",
    "index = test.pop('id')\n",
    "test = StandardScaler().fit(test).transform(test)"
   ]
  },
  {
   "cell_type": "code",
   "execution_count": 11,
   "metadata": {
    "collapsed": false
   },
   "outputs": [
    {
     "name": "stdout",
     "output_type": "stream",
     "text": [
      "594/594 [==============================] - 0s     \n"
     ]
    }
   ],
   "source": [
    "yPred = model.predict_proba(test)"
   ]
  },
  {
   "cell_type": "code",
   "execution_count": 12,
   "metadata": {
    "collapsed": false
   },
   "outputs": [
    {
     "name": "stdout",
     "output_type": "stream",
     "text": [
      "[[  9.40259968e-14   5.29389028e-15   1.24256896e-17 ...,   6.53138875e-18\n",
      "    2.08785642e-10   5.88624929e-19]\n",
      " [  3.68823490e-17   1.44360937e-13   3.28339699e-12 ...,   1.25183605e-11\n",
      "    1.00826217e-15   1.32566050e-13]\n",
      " [  1.84178345e-12   9.99976993e-01   1.05871353e-11 ...,   7.78562642e-17\n",
      "    6.08744537e-15   1.41754457e-08]\n",
      " ..., \n",
      " [  1.42758624e-12   8.12864655e-14   6.80621127e-14 ...,   1.28737393e-13\n",
      "    2.96849622e-13   7.20512400e-11]\n",
      " [  4.95697530e-15   1.51114134e-14   3.93619512e-11 ...,   6.16890870e-13\n",
      "    1.19876569e-17   5.27325189e-15]\n",
      " [  1.91502834e-17   9.75081571e-10   1.79344237e-13 ...,   1.79477515e-15\n",
      "    3.74250046e-16   7.65102445e-13]]\n"
     ]
    }
   ],
   "source": [
    "print yPred"
   ]
  },
  {
   "cell_type": "code",
   "execution_count": null,
   "metadata": {
    "collapsed": true
   },
   "outputs": [],
   "source": []
  },
  {
   "cell_type": "code",
   "execution_count": 13,
   "metadata": {
    "collapsed": false
   },
   "outputs": [],
   "source": [
    "parent_data.species.unique().sort()\n",
    "yPred = pd.DataFrame(yPred,index=index,columns=parent_data.species.unique())"
   ]
  },
  {
   "cell_type": "code",
   "execution_count": 14,
   "metadata": {
    "collapsed": false
   },
   "outputs": [],
   "source": [
    "from datetime import datetime\n",
    "datename = datetime.now().strftime(format = '%d%m_%H%M')\n",
    "folder = '/home/linux/Desktop/ML2'\n",
    "filename = folder + '/' + 'LeafClassification_NN' + '.csv'\n",
    "\n",
    "fp = open(filename,'w')\n",
    "fp.write(yPred.to_csv())"
   ]
  },
  {
   "cell_type": "code",
   "execution_count": null,
   "metadata": {
    "collapsed": true
   },
   "outputs": [],
   "source": []
  },
  {
   "cell_type": "code",
   "execution_count": null,
   "metadata": {
    "collapsed": true
   },
   "outputs": [],
   "source": []
  }
 ],
 "metadata": {
  "kernelspec": {
   "display_name": "Python 2",
   "language": "python",
   "name": "python2"
  },
  "language_info": {
   "codemirror_mode": {
    "name": "ipython",
    "version": 2
   },
   "file_extension": ".py",
   "mimetype": "text/x-python",
   "name": "python",
   "nbconvert_exporter": "python",
   "pygments_lexer": "ipython2",
   "version": "2.7.6"
  }
 },
 "nbformat": 4,
 "nbformat_minor": 2
}
